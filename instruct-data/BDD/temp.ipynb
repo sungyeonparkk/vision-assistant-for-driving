{
 "cells": [
  {
   "cell_type": "code",
   "execution_count": 6,
   "metadata": {},
   "outputs": [
    {
     "name": "stdout",
     "output_type": "stream",
     "text": [
      "Merged data saved to BDD-Instruct-v2.json\n"
     ]
    }
   ],
   "source": [
    "import json\n",
    "\n",
    "# List of paths to your JSONL files\n",
    "jsonl_files = [\"BDD-instruct-3k-08-16_010536.jsonl\"]  # Add your file paths here\n",
    "\n",
    "# List to store the merged data\n",
    "# merged_data = []\n",
    "with open(\"./BDD-Instruct-v1.json\", \"r\") as f:\n",
    "    merged_data = json.load(f)\n",
    "\n",
    "# Iterate through each JSONL file\n",
    "for jsonl_file in jsonl_files:\n",
    "    with open(jsonl_file, \"r\", encoding=\"utf-8\") as f:\n",
    "        for line in f:\n",
    "            data = json.loads(line)\n",
    "            merged_data.append(data)\n",
    "\n",
    "# Path to the output merged JSON file\n",
    "output_json_file = \"BDD-Instruct-v2.json\"\n",
    "\n",
    "# Write the merged data to the output JSON file\n",
    "with open(output_json_file, \"w\", encoding=\"utf-8\") as f:\n",
    "    json.dump(merged_data, f, ensure_ascii=False, indent=4)\n",
    "\n",
    "print(f\"Merged data saved to {output_json_file}\")"
   ]
  },
  {
   "cell_type": "code",
   "execution_count": null,
   "metadata": {},
   "outputs": [],
   "source": []
  }
 ],
 "metadata": {
  "kernelspec": {
   "display_name": "Python 3 (ipykernel)",
   "language": "python",
   "name": "python3"
  },
  "orig_nbformat": 4
 },
 "nbformat": 4,
 "nbformat_minor": 2
}
